{
 "cells": [
  {
   "cell_type": "code",
   "execution_count": null,
   "id": "b433e69b-33fc-463d-8838-426c4db2a846",
   "metadata": {},
   "outputs": [],
   "source": [
    "###---------------\n",
    "# Project HIA302 Group B \n",
    "# Isaac Kong\n",
    "# Vax \n",
    "###----------------"
   ]
  },
  {
   "cell_type": "code",
   "execution_count": null,
   "id": "7b474dce-70e5-49d6-9711-2cf24eaf1430",
   "metadata": {},
   "outputs": [],
   "source": [
    "\n",
    "\n",
    "\n"
   ]
  }
 ],
 "metadata": {
  "kernelspec": {
   "display_name": "Python 3 (ipykernel)",
   "language": "python",
   "name": "python3"
  },
  "language_info": {
   "codemirror_mode": {
    "name": "ipython",
    "version": 3
   },
   "file_extension": ".py",
   "mimetype": "text/x-python",
   "name": "python",
   "nbconvert_exporter": "python",
   "pygments_lexer": "ipython3",
   "version": "3.9.12"
  }
 },
 "nbformat": 4,
 "nbformat_minor": 5
}
