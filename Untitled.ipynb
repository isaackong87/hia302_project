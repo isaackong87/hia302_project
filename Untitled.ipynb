{
 "cells": [
  {
   "cell_type": "code",
   "execution_count": 2,
   "id": "4344361e-5f11-43ce-918c-d38bc6fe549b",
   "metadata": {},
   "outputs": [],
   "source": [
    "import pandas as pd\n",
    "import numpy as np \n",
    "import os, sys"
   ]
  },
  {
   "cell_type": "code",
   "execution_count": 3,
   "id": "39b536f1-98a2-440f-bf20-c7f700675e42",
   "metadata": {},
   "outputs": [
    {
     "data": {
      "text/plain": [
       "['vax_district.csv',\n",
       " 'vax_booster_combos.csv',\n",
       " 'vax_demog_ethnicity.csv',\n",
       " 'aefi.csv',\n",
       " 'vax_outcomes_capita.csv',\n",
       " 'vax_demog_highrisk.csv',\n",
       " 'vax_demog_sex.csv',\n",
       " 'vax_malaysia.csv',\n",
       " 'README.md',\n",
       " 'vax_state.csv',\n",
       " 'aefi_serious.csv',\n",
       " 'vax_demog_nationality.csv',\n",
       " 'vax_snapshot.csv',\n",
       " '.ipynb_checkpoints',\n",
       " 'vax_demog_age_children.csv',\n",
       " 'vax_school.csv',\n",
       " 'vax_demog_age.csv']"
      ]
     },
     "execution_count": 3,
     "metadata": {},
     "output_type": "execute_result"
    }
   ],
   "source": [
    "data_path=\"vaccination/\"\n",
    "\n",
    "vax_files = os.listdir(data_path)\n",
    "vax_files"
   ]
  },
  {
   "cell_type": "code",
   "execution_count": null,
   "id": "61df03f7-bc2b-4171-9683-7050282a5092",
   "metadata": {},
   "outputs": [],
   "source": []
  },
  {
   "cell_type": "code",
   "execution_count": null,
   "id": "ef67e14b-0b6d-43ec-b969-f11e6cced8dc",
   "metadata": {},
   "outputs": [],
   "source": []
  }
 ],
 "metadata": {
  "kernelspec": {
   "display_name": "Python 3 (ipykernel)",
   "language": "python",
   "name": "python3"
  },
  "language_info": {
   "codemirror_mode": {
    "name": "ipython",
    "version": 3
   },
   "file_extension": ".py",
   "mimetype": "text/x-python",
   "name": "python",
   "nbconvert_exporter": "python",
   "pygments_lexer": "ipython3",
   "version": "3.9.12"
  }
 },
 "nbformat": 4,
 "nbformat_minor": 5
}
