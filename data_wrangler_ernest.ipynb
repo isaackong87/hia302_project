{
 "cells": [
  {
   "cell_type": "code",
   "execution_count": null,
   "id": "02a9f683-1298-4ba7-8229-9e71640a3317",
   "metadata": {},
   "outputs": [],
   "source": [
    "#data processing on covid_19 vax_malaysia.csv data"
   ]
  },
  {
   "cell_type": "code",
   "execution_count": null,
   "id": "8185acec-0f78-424c-94f7-62e96dce3ac7",
   "metadata": {},
   "outputs": [],
   "source": [
    "import pandas as pd\n",
    "import matplotlib.pyplot as plt\n"
   ]
  },
  {
   "cell_type": "code",
   "execution_count": null,
   "id": "29e91055-a760-4329-951c-3bc1be4a543c",
   "metadata": {},
   "outputs": [],
   "source": []
  }
 ],
 "metadata": {
  "kernelspec": {
   "display_name": "Python 3 (ipykernel)",
   "language": "python",
   "name": "python3"
  },
  "language_info": {
   "codemirror_mode": {
    "name": "ipython",
    "version": 3
   },
   "file_extension": ".py",
   "mimetype": "text/x-python",
   "name": "python",
   "nbconvert_exporter": "python",
   "pygments_lexer": "ipython3",
   "version": "3.10.8"
  }
 },
 "nbformat": 4,
 "nbformat_minor": 5
}
